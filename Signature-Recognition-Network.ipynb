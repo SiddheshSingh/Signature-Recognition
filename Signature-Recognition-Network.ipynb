{
 "cells": [
  {
   "cell_type": "code",
   "execution_count": 1,
   "metadata": {},
   "outputs": [],
   "source": [
    "import numpy as np\n",
    "import matplotlib.pyplot as plt\n",
    "import matplotlib.mlab as mlab\n",
    "import cv2\n",
    "import math"
   ]
  },
  {
   "cell_type": "code",
   "execution_count": 16,
   "metadata": {},
   "outputs": [],
   "source": [
    "# height and width of images\n",
    "img_width,img_height = 250,80  \n",
    "#increasing these variables increases quality and size of image\n",
    "dim = (img_width, img_height)\n",
    "\n",
    "# location of locally saved dataset\n",
    "loc= \"E:/Code data/Signatures/Dataset_Signature_Final/Dataset/\"\n",
    "\n",
    "# helper function to return black and white image ndarray on giving location\n",
    "def returnimages(path,img):\n",
    "    image=cv2.imread(path+\"/\"+ img)                  #bringing the image\n",
    "    image=cv2.resize(image, (img_width, img_height))\n",
    "    image=cv2.cvtColor(image, cv2.COLOR_BGR2GRAY)\n",
    "    image = image/255\n",
    "    return image\n",
    "\n",
    "def flatten(img):return img.reshape((img.size, 1))   # flatten numpy array of floats to 1d "
   ]
  },
  {
   "cell_type": "code",
   "execution_count": 17,
   "metadata": {},
   "outputs": [
    {
     "data": {
      "text/plain": [
       "<matplotlib.image.AxesImage at 0x1e80eb01160>"
      ]
     },
     "execution_count": 17,
     "metadata": {},
     "output_type": "execute_result"
    },
    {
     "data": {
      "image/png": "[encoded data removed]",
      "text/plain": [
       "<Figure size 432x288 with 1 Axes>"
      ]
     },
     "metadata": {
      "needs_background": "light"
     },
     "output_type": "display_data"
    }
   ],
   "source": [
    "testimage = returnimages(loc+'dataset1/forge',\"02100002.png\")\n",
    "plt.imshow(testimage,'gray')"
   ]
  },
  {
   "cell_type": "code",
   "execution_count": 25,
   "metadata": {},
   "outputs": [],
   "source": [
    "# real signatures 1d array\n",
    "real_sign = np.ndarray((210,img_width*img_height,1))\n",
    "forged_sign = np.ndarray((210,img_width*img_height,1))\n",
    "count_real =0\n",
    "count_forged = 0\n",
    "# importing 60 real signatures from dataset1\n",
    "for i in range(1,13):\n",
    "    for j in range(0,5):\n",
    "        fird = str(i)\n",
    "        if len(fird)== 1: fird='0'+fird\n",
    "        temp_img = returnimages(loc+'dataset1/real','0'+fird+'0'+str(j)+'0'+fird+'.png')\n",
    "        real_sign[count_real] = flatten(temp_img)\n",
    "        count_real+=1\n",
    "        #plt.imshow(temp_img,'gray')\n",
    "        #plt.show()\n",
    "\n",
    "# importing 60 forged signatures from dataset1\n",
    "for i in range(1,13):\n",
    "    for j in range(0,5):\n",
    "        fird = '0210'+str(j)\n",
    "        lastd = str(i)\n",
    "        if len(lastd)== 1: lastd='0'+lastd\n",
    "        temp_img = returnimages(loc+'dataset1/forge',fird+'0'+lastd+'.png')\n",
    "        forged_sign[count_forged] = flatten(temp_img)\n",
    "        count_forged+=1\n",
    "        #plt.imshow(temp_img,'gray')\n",
    "        #plt.show()\n",
    "\n",
    "# importing 150 real signatures from dataset2\n",
    "for i in range(1,31):\n",
    "    for j in range(1,6):\n",
    "        fird = str(i)\n",
    "        if len(fird)== 1: fird='0'+fird\n",
    "        temp_img = returnimages(loc+'dataset3/real','0'+fird+'0'+str(j)+'0'+fird+'.png')\n",
    "        real_sign[count_real] = flatten(temp_img)\n",
    "        count_real+=1\n"
   ]
  },
  {
   "cell_type": "code",
   "execution_count": 8,
   "metadata": {},
   "outputs": [
    {
     "data": {
      "text/plain": [
       "array([[0.97254902],\n",
       "       [0.97254902],\n",
       "       [0.97254902],\n",
       "       ...,\n",
       "       [0.97647059],\n",
       "       [0.97647059],\n",
       "       [0.97647059]])"
      ]
     },
     "execution_count": 8,
     "metadata": {},
     "output_type": "execute_result"
    }
   ],
   "source": [
    "real_sign[59]"
   ]
  },
  {
   "cell_type": "code",
   "execution_count": 54,
   "metadata": {},
   "outputs": [],
   "source": [
    "input_var = np.ndarray((1341,2*img_width*img_height))\n",
    "output_var = np.zeros((1341,1))\n",
    "output_var[0:252]=1"
   ]
  },
  {
   "cell_type": "code",
   "execution_count": 78,
   "metadata": {},
   "outputs": [],
   "source": [
    "def findsubs1(x): # set of elements of i to i+5\n",
    "    lis = []\n",
    "    for i in range(x,x+6):\n",
    "        for j in range(i+1,x+5):\n",
    "            lis.append([i,j])\n",
    "    return lis\n",
    "\n",
    "def findsubs2(x): # set of elements of i,i+5...\n",
    "    lis = []\n",
    "    for i in range(x,210,5):\n",
    "        for j in range(i+5,210,5):\n",
    "            lis.append([i,j])\n",
    "    return lis"
   ]
  },
  {
   "cell_type": "code",
   "execution_count": 97,
   "metadata": {},
   "outputs": [],
   "source": [
    "counter = 0\n",
    "for i in range(0,210,5):\n",
    "    tmp = findsubs1(i)\n",
    "    for j in tmp:\n",
    "        input_var[counter] = np.append(real_sign[j[0]],real_sign[j[1]])\n",
    "        counter+=1\n",
    "temp = findsubs2(0)\n",
    "\n",
    "for i in temp: # real - other real\n",
    "    input_var[counter] = np.append(real_sign[i[0]],real_sign[i[1]])\n",
    "    counter+=1\n",
    "    \n",
    "for i in range(0,60): # real - forged\n",
    "    input_var[counter] = np.append(real_sign[i],forged_sign[i])\n",
    "    counter+=1"
   ]
  },
  {
   "cell_type": "code",
   "execution_count": 98,
   "metadata": {},
   "outputs": [
    {
     "data": {
      "text/plain": [
       "array([[0.98039216, 0.98039216, 0.98039216, ..., 0.96862745, 0.96862745,\n",
       "        0.96862745],\n",
       "       [0.98039216, 0.98039216, 0.98039216, ..., 0.97647059, 0.98039216,\n",
       "        0.98039216],\n",
       "       [0.98039216, 0.98039216, 0.98039216, ..., 0.97647059, 0.97647059,\n",
       "        0.97647059],\n",
       "       ...,\n",
       "       [0.96862745, 0.96862745, 0.96862745, ..., 0.96470588, 0.96470588,\n",
       "        0.96470588],\n",
       "       [0.96862745, 0.96862745, 0.96862745, ..., 0.97647059, 0.97647059,\n",
       "        0.97647059],\n",
       "       [0.97254902, 0.97254902, 0.97254902, ..., 0.97647059, 0.97647059,\n",
       "        0.97647059]])"
      ]
     },
     "execution_count": 98,
     "metadata": {},
     "output_type": "execute_result"
    }
   ],
   "source": [
    "input_var"
   ]
  },
  {
   "cell_type": "code",
   "execution_count": 99,
   "metadata": {},
   "outputs": [
    {
     "data": {
      "text/plain": [
       "(1341, 40000)"
      ]
     },
     "execution_count": 99,
     "metadata": {},
     "output_type": "execute_result"
    }
   ],
   "source": [
    "input_var.shape"
   ]
  },
  {
   "cell_type": "code",
   "execution_count": 100,
   "metadata": {},
   "outputs": [
    {
     "data": {
      "text/plain": [
       "(1341, 1)"
      ]
     },
     "execution_count": 100,
     "metadata": {},
     "output_type": "execute_result"
    }
   ],
   "source": [
    "output_var.shape"
   ]
  },
  {
   "cell_type": "code",
   "execution_count": null,
   "metadata": {},
   "outputs": [],
   "source": []
  }
 ],
 "metadata": {
  "kernelspec": {
   "display_name": "Python 3",
   "language": "python",
   "name": "python3"
  },
  "language_info": {
   "codemirror_mode": {
    "name": "ipython",
    "version": 3
   },
   "file_extension": ".py",
   "mimetype": "text/x-python",
   "name": "python",
   "nbconvert_exporter": "python",
   "pygments_lexer": "ipython3",
   "version": "3.7.3"
  }
 },
 "nbformat": 4,
 "nbformat_minor": 2
}
