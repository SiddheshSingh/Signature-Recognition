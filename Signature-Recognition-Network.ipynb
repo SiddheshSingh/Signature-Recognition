{
 "cells": [
  {
   "cell_type": "code",
   "execution_count": 1,
   "metadata": {},
   "outputs": [],
   "source": [
    "# extrating data\n",
    "import os\n",
    "import numpy as np\n",
    "import matplotlib.pyplot as plt\n",
    "import matplotlib.mlab as mlab\n",
    "import cv2\n",
    "import math"
   ]
  },
  {
   "cell_type": "code",
   "execution_count": 2,
   "metadata": {},
   "outputs": [],
   "source": [
    "# Helper functions to extract data from location using cv2, convert format to rgb and return\n",
    "\n",
    "img_width, img_height, channels = 224, 224, 3\n",
    "\n",
    "dim = (img_width, img_height)\n",
    "\n",
    "def to_rgb(img):\n",
    "    img = cv2.resize(img, dim, interpolation = cv2.INTER_AREA) \n",
    "    img_rgb = np.asarray(np.dstack((img, img, img)), dtype=np.uint8)\n",
    "    return img_rgb\n",
    "\n",
    "def returnimages(path,img):\n",
    "    image=cv2.imread(path+\"/\"+ img)                  #bringing the image\n",
    "    image=cv2.resize(image, (img_width, img_height))\n",
    "    image=cv2.cvtColor(image, cv2.COLOR_BGR2GRAY)\n",
    "    image=to_rgb(image).reshape(1,img_width, img_height,3)/255.0       #resizing and normalizing    \n",
    "    return image"
   ]
  },
  {
   "cell_type": "code",
   "execution_count": null,
   "metadata": {},
   "outputs": [],
   "source": []
  }
 ],
 "metadata": {
  "kernelspec": {
   "display_name": "Python 3",
   "language": "python",
   "name": "python3"
  },
  "language_info": {
   "codemirror_mode": {
    "name": "ipython",
    "version": 3
   },
   "file_extension": ".py",
   "mimetype": "text/x-python",
   "name": "python",
   "nbconvert_exporter": "python",
   "pygments_lexer": "ipython3",
   "version": "3.7.3"
  }
 },
 "nbformat": 4,
 "nbformat_minor": 2
}
